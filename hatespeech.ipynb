{
  "cells": [
    {
      "cell_type": "markdown",
      "metadata": {
        "id": "view-in-github",
        "colab_type": "text"
      },
      "source": [
        "<a href=\"https://colab.research.google.com/github/kalexrt/hatespeech/blob/main/hatespeech.ipynb\" target=\"_parent\"><img src=\"https://colab.research.google.com/assets/colab-badge.svg\" alt=\"Open In Colab\"/></a>"
      ]
    },
    {
      "cell_type": "markdown",
      "metadata": {
        "id": "2ZjkPMK3je_m"
      },
      "source": [
        "##Data load"
      ]
    },
    {
      "cell_type": "code",
      "execution_count": null,
      "metadata": {
        "id": "AzMldYyUiDi1"
      },
      "outputs": [],
      "source": [
        "from google.colab import drive"
      ]
    },
    {
      "cell_type": "code",
      "execution_count": null,
      "metadata": {
        "colab": {
          "base_uri": "https://localhost:8080/"
        },
        "id": "k5mSYh29iD66",
        "outputId": "3660fb52-840b-4098-9ddd-9c9d08be665c"
      },
      "outputs": [
        {
          "output_type": "stream",
          "name": "stdout",
          "text": [
            "Mounted at /content/drive\n"
          ]
        }
      ],
      "source": [
        "drive.mount('/content/drive', force_remount=True)\n"
      ]
    },
    {
      "cell_type": "code",
      "execution_count": null,
      "metadata": {
        "id": "1Kh9VVjriF5s"
      },
      "outputs": [],
      "source": [
        "import pandas as pd\n",
        "df = pd.read_csv('/content/drive/My Drive/CollabData/hatedata/errortest.csv')"
      ]
    },
    {
      "cell_type": "code",
      "execution_count": null,
      "metadata": {
        "id": "SvRA8rfjiuFU"
      },
      "outputs": [],
      "source": [
        "# df.head()"
      ]
    },
    {
      "cell_type": "code",
      "execution_count": null,
      "metadata": {
        "id": "5tmr0aUNiwUx"
      },
      "outputs": [],
      "source": [
        "# df.tail()"
      ]
    },
    {
      "cell_type": "markdown",
      "metadata": {
        "id": "XNseiP2Zjd75"
      },
      "source": [
        "## Preprocess data"
      ]
    },
    {
      "cell_type": "code",
      "execution_count": null,
      "metadata": {
        "id": "dgz1hJqcjqKd"
      },
      "outputs": [],
      "source": [
        "import numpy as np\n",
        "import tensorflow as tf\n",
        "from tensorflow.keras.layers import TextVectorization"
      ]
    },
    {
      "cell_type": "code",
      "execution_count": null,
      "metadata": {
        "id": "JXv6xA-lnLmE"
      },
      "outputs": [],
      "source": [
        "texts = df['comment_text']\n",
        "labels = df[df.columns[2:]].values"
      ]
    },
    {
      "cell_type": "code",
      "execution_count": null,
      "metadata": {
        "id": "AoD-MFUnnuIu"
      },
      "outputs": [],
      "source": [
        "MAX_FEATURES = 150000"
      ]
    },
    {
      "cell_type": "code",
      "execution_count": null,
      "metadata": {
        "id": "K0KrMSOCn_13"
      },
      "outputs": [],
      "source": [
        "vectorizer = TextVectorization(max_tokens=MAX_FEATURES,\n",
        "                               output_sequence_length = 1000,\n",
        "                               output_mode ='int')"
      ]
    },
    {
      "cell_type": "code",
      "execution_count": null,
      "metadata": {
        "id": "2T3yS-LIogSi"
      },
      "outputs": [],
      "source": [
        "vectorizer.adapt(texts.values)"
      ]
    },
    {
      "cell_type": "code",
      "execution_count": null,
      "metadata": {
        "id": "SNs0RBSloseP"
      },
      "outputs": [],
      "source": [
        "# vectorizer.get_vocabulary()"
      ]
    },
    {
      "cell_type": "code",
      "execution_count": null,
      "metadata": {
        "id": "ZC_L50R1pXB-"
      },
      "outputs": [],
      "source": [
        "vectorizer.text = vectorizer(texts.values)"
      ]
    },
    {
      "cell_type": "code",
      "execution_count": null,
      "metadata": {
        "colab": {
          "base_uri": "https://localhost:8080/"
        },
        "id": "4WxbViNMosnO",
        "outputId": "87ba915f-2fd1-4516-99c0-403f1127ec8d"
      },
      "outputs": [
        {
          "output_type": "execute_result",
          "data": {
            "text/plain": [
              "<tf.Tensor: shape=(159571, 1000), dtype=int64, numpy=\n",
              "array([[  668,    79,     2, ...,     0,     0,     0],\n",
              "       [  146, 15757,    52, ...,     0,     0,     0],\n",
              "       [  407,   416,     4, ...,     0,     0,     0],\n",
              "       ...,\n",
              "       [28310,  6902,  4876, ...,     0,     0,     0],\n",
              "       [    6,    11,   566, ...,     0,     0,     0],\n",
              "       [    6,     4,   139, ...,     0,     0,     0]])>"
            ]
          },
          "metadata": {},
          "execution_count": 13
        }
      ],
      "source": [
        "vectorizer.text"
      ]
    },
    {
      "cell_type": "markdown",
      "metadata": {
        "id": "jxCMCCWiTB2O"
      },
      "source": [
        "**Data pipeline** -- map, cache, shuffle, batch, prefetch"
      ]
    },
    {
      "cell_type": "code",
      "execution_count": null,
      "metadata": {
        "id": "lDbpVvFvpt1n"
      },
      "outputs": [],
      "source": [
        "dataset = tf.data.Dataset.from_tensor_slices((vectorizer.text, labels))"
      ]
    },
    {
      "cell_type": "code",
      "execution_count": null,
      "metadata": {
        "id": "T3eOxe-eQDML"
      },
      "outputs": [],
      "source": [
        "dataset = dataset.cache()\n",
        "dataset = dataset.shuffle(160000)\n",
        "dataset = dataset.batch(16)\n",
        "dataset = dataset.prefetch(8) #prevents bottlenecks"
      ]
    },
    {
      "cell_type": "code",
      "execution_count": null,
      "metadata": {
        "id": "wq6vRJfrQDIl"
      },
      "outputs": [],
      "source": [
        "# dataset"
      ]
    },
    {
      "cell_type": "code",
      "execution_count": null,
      "metadata": {
        "id": "rRrtDifJQDG1"
      },
      "outputs": [],
      "source": [
        "# dataset.as_numpy_iterator().next()"
      ]
    },
    {
      "cell_type": "code",
      "execution_count": null,
      "metadata": {
        "id": "J3TerwpqQDEW"
      },
      "outputs": [],
      "source": [
        "#splitting train and validation data\n",
        "train = dataset.take(int(len(dataset)*.7))\n",
        "val = dataset.skip(int(len(dataset)*.7)).take(int(len(dataset)*.3))\n",
        "# test = dataset.skip(int(len(dataset)*.9)).take(int(len(dataset)*.1))"
      ]
    },
    {
      "cell_type": "code",
      "execution_count": null,
      "metadata": {
        "id": "8q_hQXkrQC-0"
      },
      "outputs": [],
      "source": [
        "# # preprocess test data\n",
        "# # Read the test data\n",
        "# df_test = pd.read_csv('/content/drive/My Drive/CollabData/hatedata/test.csv')\n",
        "\n",
        "# # Extract text and labels\n",
        "# labels_test = df_test[df_test.columns[2:]].values\n",
        "# texts_test = df_test['comment_text']\n",
        "\n",
        "# # Use the same vectorizer on the test data\n",
        "# vectorized_texts_test = vectorizer(texts_test.values)\n",
        "\n",
        "# # Create a separate Dataset for the test data\n",
        "# dataset_test = tf.data.Dataset.from_tensor_slices((vectorized_texts_test, labels_test))\n",
        "# dataset_test = dataset_test.cache()\n",
        "# dataset_test = dataset_test.shuffle(160000)  # Adjust the shuffle size if needed\n",
        "# dataset_test = dataset_test.batch(16)\n",
        "# dataset_test = dataset_test.prefetch(8)"
      ]
    },
    {
      "cell_type": "code",
      "execution_count": null,
      "metadata": {
        "id": "Fc0wW0fQa_7d"
      },
      "outputs": [],
      "source": [
        "# dataset_test.as_numpy_iterator().next()"
      ]
    },
    {
      "cell_type": "code",
      "execution_count": null,
      "metadata": {
        "id": "CBrIT8mTbYBv"
      },
      "outputs": [],
      "source": [
        "# df_test.head()"
      ]
    },
    {
      "cell_type": "code",
      "execution_count": null,
      "metadata": {
        "colab": {
          "base_uri": "https://localhost:8080/"
        },
        "id": "6hrVLwhzb15t",
        "outputId": "f0ac4676-2510-4191-a14e-1bbb7d228285"
      },
      "outputs": [
        {
          "output_type": "execute_result",
          "data": {
            "text/plain": [
              "(array([[32267,    11,    47, ...,     0,     0,     0],\n",
              "        [    6,    10,   189, ...,     0,     0,     0],\n",
              "        [ 2397,     5,   345, ...,     0,     0,     0],\n",
              "        ...,\n",
              "        [   25,     7,   257, ...,     0,     0,     0],\n",
              "        [ 1993,   170,    12, ...,     0,     0,     0],\n",
              "        [ 4731,  1487,   784, ...,     0,     0,     0]]),\n",
              " array([[1, 0, 0, 0, 1, 0],\n",
              "        [0, 0, 0, 0, 0, 0],\n",
              "        [0, 0, 0, 0, 0, 0],\n",
              "        [0, 0, 0, 0, 0, 0],\n",
              "        [0, 0, 0, 0, 0, 0],\n",
              "        [0, 0, 0, 0, 0, 0],\n",
              "        [1, 0, 0, 0, 1, 0],\n",
              "        [0, 0, 0, 0, 0, 0],\n",
              "        [0, 0, 0, 0, 0, 0],\n",
              "        [0, 0, 1, 0, 1, 0],\n",
              "        [0, 0, 0, 0, 0, 0],\n",
              "        [0, 0, 1, 0, 1, 0],\n",
              "        [0, 0, 0, 0, 0, 0],\n",
              "        [0, 0, 0, 0, 0, 0],\n",
              "        [0, 0, 0, 0, 0, 0],\n",
              "        [0, 0, 0, 0, 1, 0]]))"
            ]
          },
          "metadata": {},
          "execution_count": 22
        }
      ],
      "source": [
        "train_generator = train.as_numpy_iterator()\n",
        "train_generator.next()"
      ]
    },
    {
      "cell_type": "markdown",
      "metadata": {
        "id": "TwyCVuDeWMbG"
      },
      "source": [
        "##Seq Model"
      ]
    },
    {
      "cell_type": "code",
      "execution_count": null,
      "metadata": {
        "id": "U8OeAiM-WXcC"
      },
      "outputs": [],
      "source": [
        "from tensorflow.keras.models import Sequential\n",
        "from tensorflow.keras.layers import LSTM, Dense, Dropout, Embedding, Bidirectional, BatchNormalization\n",
        "from tensorflow.keras.regularizers import l2\n",
        "\n",
        "dropout_rate = 0.01\n",
        "l2_lambda = 0.01"
      ]
    },
    {
      "cell_type": "code",
      "execution_count": null,
      "metadata": {
        "id": "7T8jlWG4W1RA"
      },
      "outputs": [],
      "source": [
        "model = Sequential()\n",
        "model.add(Embedding(MAX_FEATURES+1, 32))\n",
        "model.add(Bidirectional(LSTM(32, activation='tanh')))\n",
        "\n",
        "model.add(Dense(128, activation='relu'))\n",
        "# model.add(BatchNormalization())\n",
        "# model.add(Dropout(rate=dropout_rate))\n",
        "\n",
        "model.add(Dense(256, activation='relu'))\n",
        "# model.add(BatchNormalization())\n",
        "# model.add(Dropout(rate=dropout_rate))\n",
        "\n",
        "model.add(Dense(128, activation='relu'))\n",
        "# model.add(BatchNormalization())\n",
        "# model.add(Dropout(rate=dropout_rate))\n",
        "\n",
        "model.add(Dense(6, activation='sigmoid'))"
      ]
    },
    {
      "cell_type": "code",
      "execution_count": null,
      "metadata": {
        "id": "YV3r-5MEWzzU"
      },
      "outputs": [],
      "source": [
        "model.compile(loss='BinaryCrossentropy', optimizer='Adam')"
      ]
    },
    {
      "cell_type": "code",
      "execution_count": null,
      "metadata": {
        "colab": {
          "base_uri": "https://localhost:8080/"
        },
        "id": "lCAa0XwNWzo1",
        "outputId": "1c5756ac-5764-4f83-e0fe-ce2953f1d837"
      },
      "outputs": [
        {
          "output_type": "stream",
          "name": "stdout",
          "text": [
            "Model: \"sequential\"\n",
            "_________________________________________________________________\n",
            " Layer (type)                Output Shape              Param #   \n",
            "=================================================================\n",
            " embedding (Embedding)       (None, None, 32)          4800032   \n",
            "                                                                 \n",
            " bidirectional (Bidirection  (None, 64)                16640     \n",
            " al)                                                             \n",
            "                                                                 \n",
            " dense (Dense)               (None, 128)               8320      \n",
            "                                                                 \n",
            " dense_1 (Dense)             (None, 256)               33024     \n",
            "                                                                 \n",
            " dense_2 (Dense)             (None, 128)               32896     \n",
            "                                                                 \n",
            " dense_3 (Dense)             (None, 6)                 774       \n",
            "                                                                 \n",
            "=================================================================\n",
            "Total params: 4891686 (18.66 MB)\n",
            "Trainable params: 4891686 (18.66 MB)\n",
            "Non-trainable params: 0 (0.00 Byte)\n",
            "_________________________________________________________________\n"
          ]
        }
      ],
      "source": [
        "model.summary()"
      ]
    },
    {
      "cell_type": "code",
      "execution_count": null,
      "metadata": {
        "colab": {
          "base_uri": "https://localhost:8080/"
        },
        "id": "7hBsjVkwWzj5",
        "outputId": "193d71dd-aab0-46d6-cdfe-d4a7759d60dc"
      },
      "outputs": [
        {
          "output_type": "stream",
          "name": "stdout",
          "text": [
            "6981/6981 [==============================] - 575s 81ms/step - loss: 0.0599 - val_loss: 0.0444\n"
          ]
        }
      ],
      "source": [
        "history = model.fit(train, epochs = 1, validation_data = val)"
      ]
    },
    {
      "cell_type": "code",
      "execution_count": null,
      "metadata": {
        "colab": {
          "base_uri": "https://localhost:8080/"
        },
        "id": "mV8maS1LfKDp",
        "outputId": "75cecfb9-7d01-4a62-cf97-02a66a6e8f54"
      },
      "outputs": [
        {
          "output_type": "execute_result",
          "data": {
            "text/plain": [
              "{'loss': [0.05989725887775421], 'val_loss': [0.0444217324256897]}"
            ]
          },
          "metadata": {},
          "execution_count": 28
        }
      ],
      "source": [
        "history.history"
      ]
    },
    {
      "cell_type": "code",
      "execution_count": null,
      "metadata": {
        "id": "oOMk58UpWzft"
      },
      "outputs": [],
      "source": [
        "from matplotlib import pyplot as plt"
      ]
    },
    {
      "cell_type": "code",
      "execution_count": null,
      "metadata": {
        "colab": {
          "base_uri": "https://localhost:8080/",
          "height": 447
        },
        "id": "lR7SSNsysvvK",
        "outputId": "e9d07a55-6529-47e5-d0a5-acff1f175ced"
      },
      "outputs": [
        {
          "output_type": "display_data",
          "data": {
            "text/plain": [
              "<Figure size 800x500 with 0 Axes>"
            ]
          },
          "metadata": {}
        },
        {
          "output_type": "display_data",
          "data": {
            "text/plain": [
              "<Figure size 640x480 with 1 Axes>"
            ],
            "image/png": "[encoded data removed]"
          },
          "metadata": {}
        }
      ],
      "source": [
        "d_f = pd.DataFrame(history.history)\n",
        "plt.figure(figsize=(8,5))\n",
        "d_f.plot()\n",
        "plt.show()"
      ]
    },
    {
      "cell_type": "markdown",
      "metadata": {
        "id": "Z3YZdV7dWWjO"
      },
      "source": [
        "##Prediction"
      ]
    },
    {
      "cell_type": "code",
      "execution_count": null,
      "metadata": {
        "id": "rLIQhXmqjOWG"
      },
      "outputs": [],
      "source": [
        "input_text = vectorizer(\"kill yourself\")"
      ]
    },
    {
      "cell_type": "code",
      "execution_count": null,
      "metadata": {
        "id": "pXiXVI0PRS5n",
        "colab": {
          "base_uri": "https://localhost:8080/"
        },
        "outputId": "31152e45-1d34-4cb0-9734-147ce6015666"
      },
      "outputs": [
        {
          "output_type": "execute_result",
          "data": {
            "text/plain": [
              "Index(['toxic', 'severe_toxic', 'obscene', 'threat', 'insult',\n",
              "       'identity_hate'],\n",
              "      dtype='object')"
            ]
          },
          "metadata": {},
          "execution_count": 75
        }
      ],
      "source": [
        "df.columns[2:]"
      ]
    },
    {
      "cell_type": "code",
      "execution_count": null,
      "metadata": {
        "id": "9d7ZnNj1jOhc",
        "colab": {
          "base_uri": "https://localhost:8080/"
        },
        "outputId": "8c9c3240-8aad-4055-9ef2-a063342005fa"
      },
      "outputs": [
        {
          "output_type": "stream",
          "name": "stdout",
          "text": [
            "1/1 [==============================] - 0s 37ms/step\n"
          ]
        },
        {
          "output_type": "execute_result",
          "data": {
            "text/plain": [
              "array([[ True, False, False, False, False, False]])"
            ]
          },
          "metadata": {},
          "execution_count": 80
        }
      ],
      "source": [
        "model.predict(np.expand_dims(input_text,0))>0.5"
      ]
    },
    {
      "cell_type": "code",
      "execution_count": null,
      "metadata": {
        "id": "pwFs_bsLjOxX",
        "colab": {
          "base_uri": "https://localhost:8080/",
          "height": 175
        },
        "outputId": "64eb9c56-a42d-4f2f-c803-3c93c926e28f"
      },
      "outputs": [
        {
          "output_type": "error",
          "ename": "NameError",
          "evalue": "ignored",
          "traceback": [
            "\u001b[0;31m---------------------------------------------------------------------------\u001b[0m",
            "\u001b[0;31mNameError\u001b[0m                                 Traceback (most recent call last)",
            "\u001b[0;32m<ipython-input-32-191374eaa5a3>\u001b[0m in \u001b[0;36m<cell line: 1>\u001b[0;34m()\u001b[0m\n\u001b[0;32m----> 1\u001b[0;31m \u001b[0mbatch_X\u001b[0m\u001b[0;34m,\u001b[0m \u001b[0mbatch_y\u001b[0m \u001b[0;34m=\u001b[0m \u001b[0mtest\u001b[0m\u001b[0;34m.\u001b[0m\u001b[0mas_numpy_iterator\u001b[0m\u001b[0;34m(\u001b[0m\u001b[0;34m)\u001b[0m\u001b[0;34m.\u001b[0m\u001b[0mnext\u001b[0m\u001b[0;34m(\u001b[0m\u001b[0;34m)\u001b[0m\u001b[0;34m\u001b[0m\u001b[0;34m\u001b[0m\u001b[0m\n\u001b[0m",
            "\u001b[0;31mNameError\u001b[0m: name 'test' is not defined"
          ]
        }
      ],
      "source": [
        "# batch_X, batch_y = test.as_numpy_iterator().next()"
      ]
    },
    {
      "cell_type": "code",
      "execution_count": null,
      "metadata": {
        "id": "akYGVclcjOo4",
        "colab": {
          "base_uri": "https://localhost:8080/"
        },
        "outputId": "d0d0e206-16fe-4810-ac1a-3051c29a8a78"
      },
      "outputs": [
        {
          "output_type": "stream",
          "name": "stdout",
          "text": [
            "1/1 [==============================] - 0s 37ms/step\n"
          ]
        }
      ],
      "source": [
        "# res = model.predict(np.expand_dims(input_text,0))"
      ]
    },
    {
      "cell_type": "code",
      "execution_count": null,
      "metadata": {
        "id": "M8XoaQyKuktJ"
      },
      "outputs": [],
      "source": [
        "# from tensorflow.keras.models import load_model\n",
        "\n",
        "# model.save('/content/drive/My Drive/CollabData/hatedata/model_20.h5')"
      ]
    },
    {
      "cell_type": "code",
      "execution_count": null,
      "metadata": {
        "id": "muQ9WgeVskNu"
      },
      "outputs": [],
      "source": [
        "# model = load_model(\"...\") #insert model path here"
      ]
    },
    {
      "cell_type": "code",
      "execution_count": null,
      "metadata": {
        "id": "gltZkRMDskJz"
      },
      "outputs": [],
      "source": [
        "from tensorflow.keras.metrics import Precision, Recall, CategoricalAccuracy"
      ]
    },
    {
      "cell_type": "code",
      "execution_count": null,
      "metadata": {
        "id": "PBnu3XMyskCe"
      },
      "outputs": [],
      "source": [
        "pre = Precision()\n",
        "re = Recall()\n",
        "acc = CategoricalAccuracy()"
      ]
    },
    {
      "cell_type": "code",
      "execution_count": null,
      "metadata": {
        "id": "2TRQB1848-qR"
      },
      "outputs": [],
      "source": [
        "test_df = pd.read_csv('/content/drive/MyDrive/CollabData/hatedata/train.csv')"
      ]
    },
    {
      "cell_type": "code",
      "execution_count": null,
      "metadata": {
        "id": "0XWM237Z81vx"
      },
      "outputs": [],
      "source": [
        "X = test_df['comment_text']\n",
        "Y = test_df[test_df.columns[2:].values]"
      ]
    },
    {
      "cell_type": "code",
      "execution_count": null,
      "metadata": {
        "id": "bfOHf4Dm9Ar9"
      },
      "outputs": [],
      "source": [
        "vectorized_text = vectorizer(X.values)"
      ]
    },
    {
      "cell_type": "code",
      "execution_count": null,
      "metadata": {
        "id": "ueODvdg89Nmd"
      },
      "outputs": [],
      "source": [
        "test_dataset = tf.data.Dataset.from_tensor_slices((vectorized_text, Y))\n",
        "test_dataset = test_dataset.cache()\n",
        "test_dataset = test_dataset.shuffle(160000)\n",
        "test_dataset = test_dataset.batch(16)\n",
        "test_dataset = test_dataset.prefetch(8)"
      ]
    },
    {
      "cell_type": "code",
      "execution_count": null,
      "metadata": {
        "id": "BfrCUaXx-L7O"
      },
      "outputs": [],
      "source": [
        "test = test_dataset.take(int(len(dataset)*.4))"
      ]
    },
    {
      "cell_type": "code",
      "execution_count": null,
      "metadata": {
        "id": "ivovjTQ2-SHv"
      },
      "outputs": [],
      "source": [
        "# for batch in test.as_numpy_iterator():\n",
        "\n",
        "#     X_true, y_true = batch\n",
        "\n",
        "#     yhat = model.predict(X_true)\n",
        "\n",
        "#     y_true = y_true.flatten()\n",
        "#     yhat = yhat.flatten()\n",
        "\n",
        "#     pre.update_state(y_true, yhat)\n",
        "#     re.update_state(y_true, yhat)\n",
        "#     acc.update_state(y_true, yhat)"
      ]
    },
    {
      "cell_type": "code",
      "execution_count": null,
      "metadata": {
        "id": "UMWxhN_q-VTE",
        "colab": {
          "base_uri": "https://localhost:8080/"
        },
        "outputId": "1e7846a7-61a8-4353-eb5e-ef92a6a8f7cf"
      },
      "outputs": [
        {
          "output_type": "stream",
          "name": "stdout",
          "text": [
            "Precision: 0.0, Recall:0.0, Accuracy:0.0\n"
          ]
        }
      ],
      "source": [
        "print(f'Precision: {pre.result().numpy()}, Recall:{re.result().numpy()}, Accuracy:{acc.result().numpy()}')"
      ]
    }
  ],
  "metadata": {
    "accelerator": "GPU",
    "colab": {
      "provenance": [],
      "include_colab_link": true
    },
    "kernelspec": {
      "display_name": "Python 3",
      "name": "python3"
    },
    "language_info": {
      "name": "python"
    }
  },
  "nbformat": 4,
  "nbformat_minor": 0
}